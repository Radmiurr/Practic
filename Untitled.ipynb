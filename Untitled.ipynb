import numpy as np
import pandas as pd
import seaborn as sns
import matplotlib.pyplot as plt

#from mpl_toolkits.mplot3d import Axes3D
import datetime as dt
import plotly.graph_objects as go
import plotly.express as px
import plotly.figure_factory as ff

df = pd.read_csv("T1.csv")
df

df.info()

df['Date/Time'] = pd.to_datetime(df['Date/Time'], format='%d %m %Y %H:%M').dt.strftime('%b %d %H:%M:%S.%f')
df['Date/Time'] = df['Date/Time'].apply(lambda x: dt.datetime.strptime(x,'%b %d %H:%M:%S.%f') if type(x)==str else pd.NaT)
df.info()

df

df.describe().round(3)

df['Month'] = df['Date/Time'].dt.month

df

df['Day'] = df['Date/Time'].dt.day
df

df_stats = df
shape_str= str(df_stats.shape)
leng = int(shape_str.replace('(', '').replace(')', '').replace(', 4', '').replace(', 7', ''))
for i in range(leng):
    if df['Wind Speed (m/s)'][i] > 3 and df['LV ActivePower (kW)'][i] == 0:
        df_stats = df_stats.drop(index=[i])
    elif df['Wind Speed (m/s)'][i] > 8 and df['LV ActivePower (kW)'][i] < 1000:
        df_stats = df_stats.drop(index=[i])
    elif df['Wind Speed (m/s)'][i] > 6.6 and df['LV ActivePower (kW)'][i] < 400:
        df_stats = df_stats.drop(index=[i])
    elif df['Wind Speed (m/s)'][i] > 10.8 and df['LV ActivePower (kW)'][i] < 2000:
        df_stats = df_stats.drop(index=[i])
    elif df['Wind Speed (m/s)'][i] > 11.8 and df['LV ActivePower (kW)'][i] < 2900:
        df_stats = df_stats.drop(index=[i])
    elif df['Wind Speed (m/s)'][i] > 12.5 and df['LV ActivePower (kW)'][i] < 3300:
        df_stats = df_stats.drop(index=[i])
    elif df['Wind Speed (m/s)'][i] > 9.9 and df['LV ActivePower (kW)'][i] < 2100:
        df_stats = df_stats.drop(index=[i])
df_stats = df_stats.reset_index(drop=True)
df_stats

group = df.groupby('Month').mean(numeric_only=True)
group = group.drop('Day', axis = 1)
group

figure = px.line(df,
                x = 'Date/Time',
                y = 'LV ActivePower (kW)',
                labels = {'Date/Time' : 'Date'},
                title = 'Общая выработка мощности с января по декабрь'
)
figure.show()

figure = px.line(group,
                x = group.index,
                y = 'LV ActivePower (kW)',
                title = 'Выработка мощности по месяцам'
)
figure.show()

figure = px.box(df,
                x = 'Month',
                y = 'LV ActivePower (kW)',
                color='Month',
            labels = {"x" : "Месяцы"},
            title="Выработка электроэнергии по месяцам")
figure.show()

gr = df.groupby('Day').mean(numeric_only=True)
gr

figure = px.box(df,
                x = 'Day',
                y = 'LV ActivePower (kW)',
                color='Day',
            labels = {"x" : "Дни"},
            title="Выработка электроэнергии по дням")
figure.show()

figure = px.line(gr,
                x = gr.index,
                y = 'LV ActivePower (kW)',
                title = 'Выработка мощности по дням'
)
figure.show()

figure = px.box(df,
                y = 'LV ActivePower (kW)',
                title = 'Общая статистика по выработке электроэнергии'
               )
figure.show()

figure = px.box(df,
                y = 'Wind Speed (m/s)',
                title = 'Общая статистика скорости ветра'
               )
figure.show()

figure = go.Figure()
figure.add_trace(go.Scatter(y = gr['LV ActivePower (kW)'], x = gr.index, name = 'LV ActivePower (kW)'))
figure.add_trace(go.Scatter(y = gr['Theoretical_Power_Curve (KWh)'], x = gr.index, name = 'Theoretical_Power_Curve (KWh)'))
figure.update_layout(xaxis_title='Дни',yaxis_title='Выработанная энергия (кВт)')
figure.update_layout(title='Сравнение LV ActivePower (kW) и Theoretical Power Curve (KWh)')
figure.show()

df_corr = df.corr()
df_corr

x = list(df_corr.columns)
y = list(df_corr.index)
z = np.array(df_corr)
graf = ff.create_annotated_heatmap(x = x,
                                  y = y,
                                  z = z,
                                  annotation_text = np.around(z, decimals=2))
graf.show()

graf = px.scatter(df,
                  x = 'Wind Speed (m/s)',
                  y = 'Theoretical_Power_Curve (KWh)',
                  title = 'Теоретическая выработка'
)
graf.show()

graf = px.scatter(df_stats,
                  x = 'Wind Speed (m/s)',
                  y = 'LV ActivePower (kW)',
                  title = 'Практическая выработка отредактированная'
)
graf.show()

graf = go.Figure(data = [go.Histogram(x = gr['LV ActivePower (kW)'])])
# Подписи осей
graf.update_layout(xaxis_title='LV ActivePower (kW)')
graf.update_layout(title='Статистика по выработке электроэнергии')
graf.show()

from sklearn.metrics import mean_absolute_error, mean_squared_error, r2_score
from sklearn.model_selection import train_test_split
from keras.models import Sequential
from keras.layers import LSTM, Dense
import tensorflow as tf

df

df_1_to_9 = df_stats[df_stats['Month'].isin(range(1,10))]
df_10 = df_stats[df_stats['Month'] == 10]
df_10 = df_10[df_10['Day'] == 27]
df_1_to_9.to_csv("1to9.csv", index=False)
df_10.to_csv("to10.csv", index=False)
df_10

df_1_to_9

df_1_to_9 = df_1_to_9.drop('Date/Time',axis = 1).drop('Day', axis = 1).drop('Month', axis = 1).drop('Wind Direction (°)', axis = 1)

df_1_to_9.info()

train_df, test_df = train_test_split(df_1_to_9, train_size=0.6, random_state=42)

x_train = train_df.drop('LV ActivePower (kW)', axis = 1).values.reshape(-1,1,2)
x_test = test_df.drop('LV ActivePower (kW)', axis = 1).values.reshape(-1,1,2)
y_train = train_df['LV ActivePower (kW)'].values.reshape(-1,1)
y_test = test_df['LV ActivePower (kW)'].values.reshape(-1,1)

model = Sequential()
model.add(LSTM(256,return_sequences=True,input_shape=(1, 2)))
model.add(LSTM(128,return_sequences=True))
model.add(LSTM(64))
model.add(Dense(1))
model.compile(loss='mean_squared_error',optimizer='adam')
model.summary()

model.fit(x_train, y_train, epochs=200, verbose=100)

preds = model.predict(x_test)

next_24_hours_X = df_10[["Wind Speed (m/s)", "Theoretical_Power_Curve (KWh)"]].values.reshape(-1, 1, 2)
# Make predictions using the model
next_24_hours_preds = model.predict(next_24_hours_X)

# Add the predicted values to the original dataframe
df_10["LV ActivePower (kW)"] = next_24_hours_preds.flatten()

# Write the updated data to the same excel file
df_10.to_csv("PredictData.csv", index=False)

data = pd.read_csv("to10.csv")
datapredict = pd.read_csv("PredictData.csv")
shape_str= str(data.shape)
leng = int(shape_str.replace('(', '').replace(')', '').replace(', 5', '').replace(', 7', ''))
for i in range(leng):
    if data['LV ActivePower (kW)'][i] == 0 or datapredict['LV ActivePower (kW)'][i] == 0:
        data = data.drop(index=[i])
        datapredict = datapredict.drop(index=[i])
data = data.reset_index(drop=True)
datapredict = datapredict.reset_index(drop=True)

mapedf = np.mean(np.abs((data["LV ActivePower (kW)"] - datapredict["LV ActivePower (kW)"]) / data["LV ActivePower (kW)"])) * 100
mape = np.mean(np.abs((y_test - preds) / y_test)) * 100
mae = mean_absolute_error(preds,y_test)
mse = mean_squared_error(y_test, preds)
rmse = np.sqrt(mse)
r2 = r2_score(y_test, preds)

print("Метрики работы модели:")
print("__________________________________________________________________")
print("Model Percentage Mean Absolute Error: ", mape)
print("Mean Absolute Error: ", mae)
print("Mean Squared Error: ", mse)
print("Root Mean Squared Error: ", rmse)
print("R^2: ", r2)
print("Percentage Mean Absolute Error: ", mapedf)
print("__________________________________________________________________")

datapredict

data

figure = go.Figure()
figure.add_trace(go.Scatter(y = data['LV ActivePower (kW)'], x = data.index, name = 'LV ActivePower (kW)(real)'))
figure.add_trace(go.Scatter(y = datapredict['LV ActivePower (kW)'], x = datapredict.index, name = 'LV ActivePower (kW)(predict)'))
figure.update_layout(xaxis_title='Периоды',yaxis_title='LV ActivePower (kW)')
figure.update_layout(title='График LV ActivePower (kW)')
figure.show()
